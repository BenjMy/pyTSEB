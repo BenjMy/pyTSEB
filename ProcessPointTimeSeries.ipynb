{
 "cells": [
  {
   "cell_type": "markdown",
   "metadata": {},
   "source": [
    "# Summary\n",
    "In this notebook we will setup a *TSEB* model to run a time series data at point scale.\n",
    "\n",
    "# Select input and output tables\n",
    "The main input data consists on an ASCII table with tab separators and the firs row containing the name of the variables. At least the table should contain the following field names (case sensitive):\n",
    ">* **TSEB-PT** : `Year, DOY, Time, Trad, VZA, Ta, u, ea, Sdn, LAI & hc`\n",
    ">* **DTD** : `Year, DOY, Time, Trad_0, Trad_1, VZA, Ta_0, Ta_1, u, ea, Sdn, LAI & hc`\n",
    ">* **TSEB-2T** : `Year, DOY, Time, Tc, Ts, Ta, u, ea, Sdn, LAI & hc`\n",
    "\n",
    "**Year** is not really used in the model but just kept in case several years were processed, **DOY** is the day of the year (1-366), **Time** is the measurement time in decimal hours (0-24). **Trad** is the radiometric composite temperature; **Trad_0** and **Trad_1**, the same for time 0 (near sunrise0 and time 1 (around noon) for *DTD* model: **Ts** and **Tc** are the component soil and canopy temperatures for *TSEB-2T*; **Ta** is the air temperature: all temperatures expressed in Celsius. **u** is the wind speed measurement (m s$^{-1}$), **ea** is the atmospheric vapour pressure (mb), **Sdn** is the shortwave irradiance (W m$^{-2}$), **LAI** is the effective leaf area index, and **hc** is the canopy height (m).\n",
    "\n",
    "Additional input variables that can be included in the table are: **SAA** solar azimuth angle, **SZA** solar zenith angle, **Ldn** incoming longwave radiation (W m$^{-2}$), **f_C** fractional cover, **f_g** green fraction, **wc** canopy width to height ratio, or **G'** soil heat flux (W m$^{-2}$)\n",
    "\n",
    "If any of those additional variables are not found in the table they will be internally estimated by TSEB or use default values. The order of the columns is not relevant, and neither whethere there are additional columns in the table (they will be ignored if their names do not match any of the possible input variables.\n",
    "\n",
    "## TSEB setup\n",
    "Select the input and output filles and then fill all the information in each tab:"
   ]
  },
  {
   "cell_type": "code",
   "execution_count": null,
   "metadata": {
    "collapsed": false
   },
   "outputs": [],
   "source": [
    "from pyTSEB import PyTSEB # import the PyTSEB class object in the pyTSEB.py module\n",
    "setup=PyTSEB() # Create the setup instance from the PyTSEB class object\n",
    "setup.PointTimeSeriesWidget() # Load the TSEB configuration Widget"
   ]
  },
  {
   "cell_type": "code",
   "execution_count": null,
   "metadata": {
    "collapsed": false
   },
   "outputs": [],
   "source": [
    "# Get the data from the widgets\n",
    "setup.GetDataTSEBWidgets(False)\n",
    "print(setup.lat,setup.lon,setup.alt,setup.stdlon,setup.z_u,setup.z_t)\n",
    "#print(setup.TSEB_MODEL)\n",
    "#print(setup.emisVeg,setup.emisGrd)\n",
    "#print(setup.spectraVeg,setup.spectraGrd)\n",
    "print(setup.Max_alpha_PT, setup.x_LAD, setup.leaf_width,setup.z0_soil,setup.LANDCOVER)\n",
    "#print(setup.KN_b,setup.KN_c,setup.KN_C_prime)\n",
    "#print(setup.CalcG)"
   ]
  },
  {
   "cell_type": "code",
   "execution_count": null,
   "metadata": {
    "collapsed": true
   },
   "outputs": [],
   "source": [
    "setup.RunTSEBPointSeries()"
   ]
  },
  {
   "cell_type": "markdown",
   "metadata": {
    "collapsed": true
   },
   "source": [
    "* [Click here for know more about the TSEB model](./TSEB_and_Resistances.ipynb \"The TSEB model\")\n",
    "* [To know more about the TSEB code press here](./pyTSEB_in_Detail.ipynb \"Introduction to TSEB\")"
   ]
  }
 ],
 "metadata": {
  "kernelspec": {
   "display_name": "Python 3",
   "language": "python",
   "name": "python3"
  },
  "language_info": {
   "codemirror_mode": {
    "name": "ipython",
    "version": 3
   },
   "file_extension": ".py",
   "mimetype": "text/x-python",
   "name": "python",
   "nbconvert_exporter": "python",
   "pygments_lexer": "ipython3",
   "version": "3.4.3"
  }
 },
 "nbformat": 4,
 "nbformat_minor": 0
}
