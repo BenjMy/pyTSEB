{
 "cells": [
  {
   "cell_type": "markdown",
   "metadata": {},
   "source": [
    "# Summary\n",
    "In this notebook we will setup a *TSEB* model to run a single image using local meteorological data.\n",
    "\n",
    "\n",
    "## TSEB setup\n",
    "Select the input and output filles and then fill all the information in each tab:"
   ]
  },
  {
   "cell_type": "code",
   "execution_count": null,
   "metadata": {
    "collapsed": false
   },
   "outputs": [],
   "source": [
    "import pyTSEB\n",
    "setup=pyTSEB.PyTSEB() # Create the setup instance from the PyTSEB class object\n",
    "setup.LocalImageWidget() # Load the TSEB configuration Widget"
   ]
  },
  {
   "cell_type": "code",
   "execution_count": null,
   "metadata": {
    "collapsed": false,
    "scrolled": true
   },
   "outputs": [],
   "source": [
    "# Get the data from the widgets\n",
    "setup.GetDataTSEBWidgets(True)\n",
    "print(setup.lat,setup.lon,setup.alt,setup.stdlon,setup.z_u,setup.z_t)\n",
    "print(setup.DOY,setup.Time,setup.Ta_1,setup.Sdn,setup.u,setup.ea,setup.Ldn,setup.p)\n",
    "#print(setup.TSEB_MODEL)\n",
    "#print(setup.emisVeg,setup.emisGrd)\n",
    "#print(setup.spectraVeg,setup.spectraGrd)\n",
    "print(setup.Max_alpha_PT, setup.x_LAD, setup.leaf_width,setup.z0_soil,setup.LANDCOVER)\n",
    "#print(setup.KN_b,setup.KN_c,setup.KN_C_prime)\n",
    "#print(setup.CalcG)"
   ]
  },
  {
   "cell_type": "code",
   "execution_count": null,
   "metadata": {
    "collapsed": false
   },
   "outputs": [],
   "source": [
    "# Run TSEB\n",
    "setup.RunTSEBLocalImage()"
   ]
  },
  {
   "cell_type": "code",
   "execution_count": null,
   "metadata": {
    "collapsed": true
   },
   "outputs": [],
   "source": []
  }
 ],
 "metadata": {
  "kernelspec": {
   "display_name": "Python 2",
   "language": "python",
   "name": "python2"
  },
  "language_info": {
   "codemirror_mode": {
    "name": "ipython",
    "version": 3
   },
   "file_extension": ".py",
   "mimetype": "text/x-python",
   "name": "python",
   "nbconvert_exporter": "python",
   "pygments_lexer": "ipython3",
   "version": "3.4.3"
  }
 },
 "nbformat": 4,
 "nbformat_minor": 0
}
